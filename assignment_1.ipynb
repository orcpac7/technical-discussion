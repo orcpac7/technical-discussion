{
 "cells": [
  {
   "cell_type": "code",
   "execution_count": 2,
   "id": "585c77b6-423b-470a-8645-42988f76ebb3",
   "metadata": {},
   "outputs": [
    {
     "name": "stdout",
     "output_type": "stream",
     "text": [
      "hello world\n"
     ]
    }
   ],
   "source": [
    "print(\"hello world\")"
   ]
  },
  {
   "cell_type": "markdown",
   "id": "6124e662",
   "metadata": {},
   "source": [
    "# Created in Jupyter Notebook\n",
    "## Under Anaconda\n",
    "\n",
    "- example of a code cell above\n",
    "- example of Markdown code fence below\n",
    "\n",
    "```python\n",
    "print(\"hello\")\n",
    "```\n"
   ]
  }
 ],
 "metadata": {
  "kernelspec": {
   "display_name": "Python 3 (ipykernel)",
   "language": "python",
   "name": "python3"
  },
  "language_info": {
   "codemirror_mode": {
    "name": "ipython",
    "version": 3
   },
   "file_extension": ".py",
   "mimetype": "text/x-python",
   "name": "python",
   "nbconvert_exporter": "python",
   "pygments_lexer": "ipython3",
   "version": "3.9.7"
  }
 },
 "nbformat": 4,
 "nbformat_minor": 5
}
