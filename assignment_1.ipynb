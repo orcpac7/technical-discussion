{
  "cells": [
    {
      "cell_type": "markdown",
      "metadata": {
        "id": "view-in-github",
        "colab_type": "text"
      },
      "source": [
        "<a href=\"https://colab.research.google.com/github/orcpac7/technical-discussion/blob/main/assignment_1.ipynb\" target=\"_parent\"><img src=\"https://colab.research.google.com/assets/colab-badge.svg\" alt=\"Open In Colab\"/></a>"
      ]
    },
    {
      "cell_type": "code",
      "execution_count": null,
      "id": "585c77b6-423b-470a-8645-42988f76ebb3",
      "metadata": {
        "id": "585c77b6-423b-470a-8645-42988f76ebb3",
        "outputId": "92179b6e-e347-4ba0-e47f-3d81744df640"
      },
      "outputs": [
        {
          "name": "stdout",
          "output_type": "stream",
          "text": [
            "hello world\n"
          ]
        }
      ],
      "source": [
        "print(\"hello world\")"
      ]
    },
    {
      "cell_type": "markdown",
      "id": "6124e662",
      "metadata": {
        "id": "6124e662"
      },
      "source": [
        "# Created in Jupyter Notebook\n",
        "## Under Anaconda\n",
        "\n",
        "- example of a code cell above\n",
        "- example of Markdown code fence below\n",
        "\n",
        "```python\n",
        "print(\"hello\")\n",
        "```\n",
        "> I like Colab because it's easier to edit with the preview side by side, but I liked the Anaconda installation I did in order to get Python and Jupyter because it included a lot of data science tools that I will be needing in the near future.\n"
      ]
    }
  ],
  "metadata": {
    "kernelspec": {
      "display_name": "Python 3 (ipykernel)",
      "language": "python",
      "name": "python3"
    },
    "language_info": {
      "codemirror_mode": {
        "name": "ipython",
        "version": 3
      },
      "file_extension": ".py",
      "mimetype": "text/x-python",
      "name": "python",
      "nbconvert_exporter": "python",
      "pygments_lexer": "ipython3",
      "version": "3.9.7"
    },
    "colab": {
      "name": "assignment_1.ipynb",
      "provenance": [],
      "include_colab_link": true
    }
  },
  "nbformat": 4,
  "nbformat_minor": 5
}