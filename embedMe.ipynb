{
  "nbformat": 4,
  "nbformat_minor": 0,
  "metadata": {
    "colab": {
      "name": "Untitled0.ipynb",
      "provenance": [],
      "toc_visible": true,
      "authorship_tag": "ABX9TyP9u94xXmSGkPzZk/j0gZ5Z",
      "include_colab_link": true
    },
    "kernelspec": {
      "name": "python3",
      "display_name": "Python 3"
    },
    "language_info": {
      "name": "python"
    }
  },
  "cells": [
    {
      "cell_type": "markdown",
      "metadata": {
        "id": "view-in-github",
        "colab_type": "text"
      },
      "source": [
        "<a href=\"https://colab.research.google.com/github/orcpac7/technical-discussion/blob/main/embedMe.ipynb\" target=\"_parent\"><img src=\"https://colab.research.google.com/assets/colab-badge.svg\" alt=\"Open In Colab\"/></a>"
      ]
    },
    {
      "cell_type": "code",
      "execution_count": null,
      "metadata": {
        "colab": {
          "base_uri": "https://localhost:8080/"
        },
        "id": "pvvele8tYuNR",
        "outputId": "23a91de3-70a4-4f96-acce-0e831a786ee2"
      },
      "outputs": [
        {
          "output_type": "stream",
          "name": "stdout",
          "text": [
            "hello world\n"
          ]
        }
      ],
      "source": [
        "  print(\"hello world\")"
      ]
    },
    {
      "cell_type": "markdown",
      "source": [
        "# Example Code\n",
        "\n",
        "The code example is a traditional beachhead for a new programmer or a new language.\n",
        "\n",
        "## Text Markup with Markdown\n",
        "- Doesn't do tables\n",
        "- Isn't good for tying together sectioned material like:\n",
        " - Books\n",
        " - Large Technical Documents\n",
        "\n",
        "For serious technical writing consider [Asciidoc](https://docs.asciidoctor.org/asciidoc/latest/asciidoc-vs-markdown/) and [PanDoc](https://pandoc.org/)\n"
      ],
      "metadata": {
        "id": "A138wrFDZmQr"
      }
    }
  ]
}